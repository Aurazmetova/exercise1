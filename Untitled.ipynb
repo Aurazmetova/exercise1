{
 "cells": [
  {
   "cell_type": "code",
   "execution_count": null,
   "metadata": {},
   "outputs": [
    {
     "name": "stdout",
     "output_type": "stream",
     "text": [
      "Hello, what is your name?\n"
     ]
    }
   ],
   "source": [
    "print(\"Hello, what is your name?\")\n",
    "name=input()\n",
    "if name==\"admin\":\n",
    "    print(\"Hello, admin, would you like to see a status report?\")\n",
    "if name==\"Javlon\":\n",
    "    print(\"Hello, Javon, thank you for logging in\")\n",
    "if name==\"Aygerim\":\n",
    "    print(\"Welcome, Aygerim, thank you for visiting here\")\n",
    "if name==\"Perizat\":\n",
    "    print(\"Hi, Perizat, congratulations on logging in\")\n",
    "if name==\"Beknur\":\n",
    "    print(\"Welcome, Beknur,do not log in again\")"
   ]
  },
  {
   "cell_type": "code",
   "execution_count": null,
   "metadata": {},
   "outputs": [],
   "source": []
  }
 ],
 "metadata": {
  "kernelspec": {
   "display_name": "Python 3",
   "language": "python",
   "name": "python3"
  },
  "language_info": {
   "name": ""
  }
 },
 "nbformat": 4,
 "nbformat_minor": 4
}
